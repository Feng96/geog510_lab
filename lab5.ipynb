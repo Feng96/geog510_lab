{
 "cells": [
  {
   "cell_type": "markdown",
   "id": "4e70be69",
   "metadata": {},
   "source": [
    "# Lab 5\n",
    "\n",
    "[![image](https://colab.research.google.com/assets/colab-badge.svg)](https://colab.research.google.com/github/Feng96/geog510_lab/blob/master/lab5.ipynb)\n",
    "\n",
    "## Submission instructions\n",
    "\n",
    "1. Download the notebook from https://geosdemo.gishub.org/labs/lab5\n",
    "2. Complete the lab questions\n",
    "3. Restart Kernel and Run All Cells\n",
    "4. Upload the notebook to your GitHub repository\n",
    "5. Make sure the notebook has an `Open In Colab` badge. Click on the badge to make sure your notebook can be opened in Colab.\n",
    "6. Submit the link to the notebook on your GitHub repository to Canvas"
   ]
  },
  {
   "cell_type": "code",
   "execution_count": 1,
   "id": "8de60915",
   "metadata": {},
   "outputs": [
    {
     "name": "stdout",
     "output_type": "stream",
     "text": [
      "Submitted time: 2023-03-22 22:19:54.550182\n"
     ]
    }
   ],
   "source": [
    "from datetime import datetime\n",
    "\n",
    "now = datetime.now()\n",
    "print(f\"Submitted time: {now}\")"
   ]
  },
  {
   "cell_type": "markdown",
   "id": "a526d1ff",
   "metadata": {},
   "source": [
    "## Question 1\n",
    "\n",
    "**Person:** Use a dictionary to store information about a person you know. Store their first name, last name, age, and the city in which they live. You should have keys such as first_name, last_name, age, and city. Print each piece of information stored in your dictionary."
   ]
  },
  {
   "cell_type": "code",
   "execution_count": 2,
   "id": "060bd962",
   "metadata": {},
   "outputs": [
    {
     "name": "stdout",
     "output_type": "stream",
     "text": [
      "Yang\n",
      "Li\n",
      "30\n",
      "champaign\n"
     ]
    }
   ],
   "source": [
    "person = {\n",
    "    'first_name':'Yang',\n",
    "    'last_name':'Li',\n",
    "    'age':30,\n",
    "    'city':'champaign',\n",
    "    }\n",
    "\n",
    "print(person['first_name'])\n",
    "print(person['last_name'])\n",
    "print(person['age'])\n",
    "print(person['city'])"
   ]
  },
  {
   "cell_type": "markdown",
   "id": "32bb120e",
   "metadata": {},
   "source": [
    "## Question 2\n",
    "\n",
    "**Favorite Numbers:** Use a dictionary to store people’s favorite numbers. Think of five names, and use them as keys in your dictionary. Think of a favorite number for each person, and store each as a value in your dictionary. Print each person’s name and their favorite number. For even more fun, poll a few friends and get some actual data for your program."
   ]
  },
  {
   "cell_type": "code",
   "execution_count": 3,
   "id": "37115a33",
   "metadata": {},
   "outputs": [
    {
     "name": "stdout",
     "output_type": "stream",
     "text": [
      "Yang's favorite number is 26\n",
      "Shengxi's favorite number is 88\n",
      "Yuzhou's favorite number is 66\n",
      "Zishan's favorite number is 33\n",
      "Li's favorite number is 100\n"
     ]
    }
   ],
   "source": [
    "numbers = {\n",
    "    'Yang': 26,\n",
    "    'Shengxi': 88,\n",
    "    'Yuzhou': 66,\n",
    "    'Zishan': 33,\n",
    "    'Li': 100\n",
    "    }\n",
    "\n",
    "for k,v in numbers.items():\n",
    "    print(f\"{k}'s favorite number is {v}\")"
   ]
  },
  {
   "cell_type": "markdown",
   "id": "eb31ca53",
   "metadata": {},
   "source": [
    "## Question 3\n",
    "\n",
    "**Glossary:** A Python dictionary can be used to model an actual dictionary. However, to avoid confusion, let’s call it a glossary.\n",
    "\n",
    "- Think of five programming words you’ve learned about in the previous chapters. Use these words as the keys in your glossary, and store their meanings as values.\n",
    "- Print each word and its meaning as neatly formatted output. You might print the word followed by a colon and then its meaning, or print the word on one line and then print its meaning indented on a second line. Use the newline character (\\n) to insert a blank line between each word-meaning pair in your output."
   ]
  },
  {
   "cell_type": "code",
   "execution_count": 4,
   "id": "7bdd7f86",
   "metadata": {},
   "outputs": [
    {
     "name": "stdout",
     "output_type": "stream",
     "text": [
      "list: a list to store elements in oder.\n",
      "uppercase: return the uppercase of input.\n",
      "lowercase: return the lowercase of input.\n",
      "loop: define a loop function\n",
      "dictionary: a dictionary is a collection of attributes.\n"
     ]
    }
   ],
   "source": [
    "programmin_words = {\n",
    "    'list': 'a list to store elements in oder.',\n",
    "    'uppercase': 'return the uppercase of input.',\n",
    "    'lowercase': 'return the lowercase of input.',\n",
    "    'loop': 'define a loop function',\n",
    "    'dictionary': \"a dictionary is a collection of attributes.\",\n",
    "    }\n",
    "\n",
    "\n",
    "print(f\"list: {programmin_words['list']}\")\n",
    "print(f\"uppercase: {programmin_words['uppercase']}\")\n",
    "print(f\"lowercase: {programmin_words['lowercase']}\")\n",
    "print(f\"loop: {programmin_words['loop']}\")\n",
    "print(f\"dictionary: {programmin_words['dictionary']}\")"
   ]
  },
  {
   "cell_type": "markdown",
   "id": "9bdb2d85",
   "metadata": {},
   "source": [
    "## Question 4\n",
    "\n",
    "**Glossary 2:** Now that you know how to loop through a dictionary, clean up the code from Question 3 by replacing your series of print() calls with a loop that runs through the dictionary’s keys and values. When you’re sure that your loop works, add five more Python terms to your glossary. When you run your program again, these new words and meanings should automatically be included in the output."
   ]
  },
  {
   "cell_type": "code",
   "execution_count": 5,
   "id": "018d37ff",
   "metadata": {},
   "outputs": [
    {
     "name": "stdout",
     "output_type": "stream",
     "text": [
      "list: a list to store elements in oder.\n",
      "upper: return the uppercase of input.\n",
      "lower: return the lowercase of input.\n",
      "loop: define a loop function\n",
      "dictionary: a dictionary is a collection of attributes.\n"
     ]
    }
   ],
   "source": [
    "programmin_words = {\n",
    "    'list': 'a list to store elements in oder.',\n",
    "    'upper': 'return the uppercase of input.',\n",
    "    'lower': 'return the lowercase of input.',\n",
    "    'loop': 'define a loop function',\n",
    "    'dictionary': \"a dictionary is a collection of attributes.\",\n",
    "    }\n",
    "\n",
    "for k,v in programmin_words.items():\n",
    "    print(f'{k}: {v}')"
   ]
  },
  {
   "cell_type": "markdown",
   "id": "375356d5",
   "metadata": {},
   "source": [
    "## Question 5\n",
    "\n",
    "**Rivers:** Make a dictionary containing three major rivers and the country each river runs through. One key-value pair might be 'nile': 'egypt'.\n",
    "\n",
    "- Use a loop to print a sentence about each river, such as _The Nile runs through Egypt._\n",
    "- Use a loop to print the name of each river included in the dictionary.\n",
    "- Use a loop to print the name of each country included in the dictionary."
   ]
  },
  {
   "cell_type": "code",
   "execution_count": 6,
   "id": "2fd7b758",
   "metadata": {},
   "outputs": [
    {
     "name": "stdout",
     "output_type": "stream",
     "text": [
      "Nile runs through Egypt\n",
      "Yangtze runs through China\n",
      "Missouri runs through United States\n",
      "Nile\n",
      "Yangtze\n",
      "Missouri\n",
      "Egypt\n",
      "China\n",
      "United States\n"
     ]
    }
   ],
   "source": [
    "rivers = {\n",
    "    'nile':'egypt',\n",
    "    'yangtze':'china',\n",
    "    'missouri':'united states'\n",
    "}\n",
    "\n",
    "for k,v in rivers.items():\n",
    "    print(f'{k.title()} runs through {v.title()}')\n",
    "\n",
    "for k in rivers.keys():\n",
    "    print(f'{k.title()}')\n",
    "\n",
    "for v in rivers.values():\n",
    "    print(f'{v.title()}')"
   ]
  },
  {
   "cell_type": "markdown",
   "id": "8b0b500d",
   "metadata": {},
   "source": [
    "## Question 6\n",
    "\n",
    "**Cities:** Make a dictionary called `cities`. Use the names of three cities as keys in your dictionary. Create a dictionary of information about each city and include the country that the city is in, its approximate population, and one fact about that city. The keys for each city’s dictionary should be something like `country`, `population`, and `fact`. Print the name of each city and all of the information you have stored about it."
   ]
  },
  {
   "cell_type": "code",
   "execution_count": 7,
   "id": "28a77010",
   "metadata": {},
   "outputs": [
    {
     "name": "stdout",
     "output_type": "stream",
     "text": [
      "Knoxville:{'country': 'United States', 'pop': 400000, 'fact': 'Smoky Mountain'}\n",
      "Nanyang:{'country': 'China', 'pop': 10000000, 'fact': 'Zhuge Lu'}\n",
      "Columbus:{'country': 'United States', 'pop': 800000, 'fact': 'Ohio river'}\n"
     ]
    }
   ],
   "source": [
    "cities = {\n",
    "    'Knoxville':{\n",
    "    'country':'United States',\n",
    "    'pop': 400000,\n",
    "    'fact': 'Smoky Mountain'\n",
    "    },\n",
    "    'Nanyang':{\n",
    "    'country':'China',\n",
    "    'pop': 10000000,\n",
    "    'fact': 'Zhuge Lu'\n",
    "    },\n",
    "    'Columbus':{\n",
    "    'country':'United States',\n",
    "    'pop': 800000,\n",
    "    'fact': 'Ohio river'\n",
    "    }\n",
    "}\n",
    "\n",
    "for k,v in cities.items():\n",
    "    print(f'{k}:{v}')"
   ]
  },
  {
   "cell_type": "markdown",
   "id": "874541d3",
   "metadata": {},
   "source": [
    "## Question 7\n",
    "\n",
    "**Rental Car:** Write a program that asks the user what kind of rental car they would like. Print a message about that car, such as “Let me see if I can find you a Subaru.”"
   ]
  },
  {
   "cell_type": "code",
   "execution_count": 8,
   "id": "5283628b",
   "metadata": {},
   "outputs": [
    {
     "name": "stdout",
     "output_type": "stream",
     "text": [
      "Let me see if I can find you a Honda.\n"
     ]
    }
   ],
   "source": [
    "car_maker = input(\"Which car maker you want? \")\n",
    "\n",
    "print(f\"Let me see if I can find you a {car_maker.title()}.\")"
   ]
  },
  {
   "cell_type": "markdown",
   "id": "e03a200a",
   "metadata": {},
   "source": [
    "## Question 8\n",
    "\n",
    "**Restaurant Seating:** Write a program that asks the user how many people are in their dinner group. If the answer is more than eight, print a message saying they’ll have to wait for a table. Otherwise, report that their table is ready."
   ]
  },
  {
   "cell_type": "code",
   "execution_count": 9,
   "id": "96167a0f",
   "metadata": {},
   "outputs": [
    {
     "name": "stdout",
     "output_type": "stream",
     "text": [
      "Sorry, you have to wait for a table.\n"
     ]
    }
   ],
   "source": [
    "group = input('How many people are in your dinner group?')\n",
    "\n",
    "if int(group) > 8:\n",
    "    print('Sorry, you have to wait for a table.')\n",
    "else:\n",
    "    print('Your table is ready.')"
   ]
  },
  {
   "cell_type": "markdown",
   "id": "a523d8a7",
   "metadata": {},
   "source": [
    "## Question 9\n",
    "\n",
    "**Multiples of Ten:** Ask the user for a number, and then report whether the number is a multiple of 10 or not."
   ]
  },
  {
   "cell_type": "code",
   "execution_count": 10,
   "id": "77c9702e",
   "metadata": {},
   "outputs": [
    {
     "name": "stdout",
     "output_type": "stream",
     "text": [
      "20 is a multiple of 10.\n"
     ]
    }
   ],
   "source": [
    "number = input('is this a multiple of 10? ')\n",
    "\n",
    "if int(number) % 10 == 0:\n",
    "    print(f'{number} is a multiple of 10.')\n",
    "else:\n",
    "    print(f'{number} is not a multiple of 10.')"
   ]
  },
  {
   "cell_type": "markdown",
   "id": "de550983",
   "metadata": {},
   "source": [
    "## Question 10\n",
    "\n",
    "**Pizza Toppings:** Write a loop that prompts the user to enter a series of pizza toppings until they enter a 'quit' value. As they enter each topping, print a message saying you’ll add that topping to their pizza."
   ]
  },
  {
   "cell_type": "code",
   "execution_count": 11,
   "id": "11f4d8e4",
   "metadata": {},
   "outputs": [
    {
     "name": "stdout",
     "output_type": "stream",
     "text": [
      "  I'll add pepper to your pizza.\n",
      "  I'll add swiss to your pizza.\n"
     ]
    }
   ],
   "source": [
    "toppings = 'choose the toppings of your pizza'\n",
    "\n",
    "while True:\n",
    "    topping = input(toppings)\n",
    "    if topping != 'quit':\n",
    "        print(\"  I'll add \" + topping + \" to your pizza.\")\n",
    "    else:\n",
    "        break"
   ]
  },
  {
   "cell_type": "markdown",
   "id": "ccfe4831",
   "metadata": {},
   "source": [
    "## Question 11\n",
    "\n",
    "**Message:** Write a function called `display_message()` that prints one sentence telling everyone what you are learning about in this chapter. Call the function, and make sure the message displays correctly."
   ]
  },
  {
   "cell_type": "code",
   "execution_count": 12,
   "id": "7080b52a",
   "metadata": {},
   "outputs": [
    {
     "name": "stdout",
     "output_type": "stream",
     "text": [
      "I learned dictionary and user input in this chapter\n"
     ]
    }
   ],
   "source": [
    "def display_message() :\n",
    "    print('I learned dictionary and user input in this chapter')\n",
    "\n",
    "display_message()"
   ]
  },
  {
   "cell_type": "markdown",
   "id": "2b5e23db",
   "metadata": {},
   "source": [
    "## Question 12\n",
    "\n",
    "**Favorite Book:** Write a function called `favorite_book()` that accepts one parameter, title. The function should print a message, such as `One of my favorite books is Alice in Wonderland`. Call the function, making sure to include a book title as an argument in the function call."
   ]
  },
  {
   "cell_type": "code",
   "execution_count": 13,
   "id": "b33bd108",
   "metadata": {},
   "outputs": [
    {
     "name": "stdout",
     "output_type": "stream",
     "text": [
      "One of my favorite books is Alice in Wonderland\n"
     ]
    }
   ],
   "source": [
    "def favortie_book(book_name):\n",
    "    print(f\"One of my favorite books is {book_name}\")\n",
    "\n",
    "favortie_book('Alice in Wonderland')"
   ]
  },
  {
   "cell_type": "markdown",
   "id": "4904419f",
   "metadata": {},
   "source": [
    "## Question 13\n",
    "\n",
    "**T-Shirt:** Write a function called `make_shirt()` that accepts a size and the text of a message that should be printed on the shirt. The function should print a sentence summarizing the size of the shirt and the message printed on it.\n",
    "\n",
    "Call the function once using positional arguments to make a shirt. Call the function a second time using keyword arguments."
   ]
  },
  {
   "cell_type": "code",
   "execution_count": 14,
   "id": "53d690ca",
   "metadata": {},
   "outputs": [
    {
     "name": "stdout",
     "output_type": "stream",
     "text": [
      "I will make a XXL size T-shirt, and print \"Just Do It\" on it\n",
      "I will make a XXL size T-shirt, and print \"Just Do It\" on it\n"
     ]
    }
   ],
   "source": [
    "def make_shirt(size,message):\n",
    "    print(f'I will make a {size} size T-shirt, and print \"{message}\" on it')\n",
    "\n",
    "make_shirt(\"XXL\",\"Just Do It\")\n",
    "make_shirt(size=\"XXL\",message=\"Just Do It\")"
   ]
  },
  {
   "cell_type": "markdown",
   "id": "c6a6dc4b",
   "metadata": {},
   "source": [
    "## Question 14\n",
    "\n",
    "**Large Shirts:** Modify the `make_shirt()` function so that shirts are large by default with a message that reads _I love Python_. Make a large shirt and a medium shirt with the default message, and a shirt of any size with a different message."
   ]
  },
  {
   "cell_type": "code",
   "execution_count": 15,
   "id": "658f7e3f",
   "metadata": {},
   "outputs": [
    {
     "name": "stdout",
     "output_type": "stream",
     "text": [
      "I will make a large size T-shirt, and print \"I love Python\" on it\n",
      "I will make a medium size T-shirt, and print \"I love Python\" on it\n",
      "I will make a large size T-shirt, and print \"Just Do It\" on it\n"
     ]
    }
   ],
   "source": [
    "def make_shirt(size = 'large',message = 'I love Python'):\n",
    "    print(f'I will make a {size} size T-shirt, and print \"{message}\" on it')\n",
    "\n",
    "make_shirt('large')\n",
    "make_shirt('medium')\n",
    "make_shirt(message ='Just Do It')"
   ]
  },
  {
   "cell_type": "markdown",
   "id": "64fd6e85",
   "metadata": {},
   "source": [
    "## Question 15\n",
    "\n",
    "**Cities:** Write a function called `describe_city()` that accepts the name of a city and its country. The function should print a simple sentence, such as `Reykjavik is in Iceland`. Give the parameter for the country a default value. Call your function for three different cities, at least one of which is not in the default country."
   ]
  },
  {
   "cell_type": "code",
   "execution_count": 16,
   "id": "bc493373",
   "metadata": {},
   "outputs": [
    {
     "name": "stdout",
     "output_type": "stream",
     "text": [
      "Knoxville is in United States\n"
     ]
    }
   ],
   "source": [
    "def describe_city(name,country):\n",
    "    print(f'{name} is in {country}')\n",
    "\n",
    "describe_city('Knoxville','United States')"
   ]
  },
  {
   "cell_type": "markdown",
   "id": "259cdcdc",
   "metadata": {},
   "source": [
    "## Question 16\n",
    "\n",
    "**City Names:** Write a function called `city_country()` that takes in the name of a city and its country. The function should return a string formatted like this:\n",
    "\n",
    "```text\n",
    "Santiago, Chile\n",
    "```\n",
    "\n",
    "Call your function with at least three city-country pairs, and print the values that are returned."
   ]
  },
  {
   "cell_type": "code",
   "execution_count": 17,
   "id": "f1b5b16e",
   "metadata": {},
   "outputs": [
    {
     "name": "stdout",
     "output_type": "stream",
     "text": [
      "Knxville, United States\n",
      "Columbus, United States\n",
      "Beijing, China\n"
     ]
    }
   ],
   "source": [
    "def city_country(name,country):\n",
    "    print(f'{name}, {country}')\n",
    "\n",
    "city_country('Knxville','United States')\n",
    "city_country('Columbus','United States')\n",
    "city_country('Beijing','China')"
   ]
  },
  {
   "cell_type": "markdown",
   "id": "491f64a4",
   "metadata": {},
   "source": [
    "## Question 17\n",
    "\n",
    "**Album:** Write a function called `make_album()` that builds a dictionary describing a music album. The function should take in an artist name and an album title, and it should return a dictionary containing these two pieces of information. Use the function to make three dictionaries representing different albums. Print each return value to show that the dictionaries are storing the album information correctly.\n",
    "\n",
    "Use None to add an optional parameter to make_album() that allows you to store the number of songs on an album. If the calling line includes a value for the number of songs, add that value to the album’s dictionary. Make at least one new function call that includes the number of songs on an album."
   ]
  },
  {
   "cell_type": "code",
   "execution_count": 18,
   "id": "550b2be6",
   "metadata": {},
   "outputs": [
    {
     "name": "stdout",
     "output_type": "stream",
     "text": [
      "{'artist': 'Coldplay', 'tilte': 'up & up', 'number': 10}\n",
      "{'artist': 'Queen', 'tilte': 'Made in Heaven'}\n",
      "{'artist': 'Queen', 'tilte': 'The Game'}\n"
     ]
    }
   ],
   "source": [
    "def make_album(artist_name, album_title, number=None):\n",
    "    album = {'artist': artist_name, 'tilte': album_title}\n",
    "    if number:\n",
    "        album['number'] = number\n",
    "    return album\n",
    "\n",
    "\n",
    "album1 = make_album('Coldplay','up & up', 10)\n",
    "album2 = make_album('Queen','Made in Heaven')\n",
    "album3 = make_album('Queen','The Game')\n",
    "\n",
    "print(album1)\n",
    "print(album2)\n",
    "print(album3)"
   ]
  },
  {
   "cell_type": "markdown",
   "id": "42f6a72f",
   "metadata": {},
   "source": [
    "## Question 18\n",
    "\n",
    "**User Albums:** Start with your program from Question 17. Write a `while` loop that allows users to enter an album’s artist and title. Once you have that information, call `make_album()` with the user’s input and print the dictionary that’s created. Be sure to include a quit value in the `while` loop."
   ]
  },
  {
   "cell_type": "code",
   "execution_count": 36,
   "id": "2ba9b4ba",
   "metadata": {},
   "outputs": [
    {
     "name": "stdout",
     "output_type": "stream",
     "text": [
      "{'artist': 'coldplay', 'tilte': 'up and up'}\n",
      "{'artist': 'queen', 'tilte': 'i want free'}\n"
     ]
    }
   ],
   "source": [
    "album_info = \"please enter the info of album, type 'quit' to end\"\n",
    "def make_album(artist_name, album_title, number=None):\n",
    "    album = {'artist': artist_name, 'tilte': album_title}\n",
    "    if number:\n",
    "        album['number'] = number\n",
    "    return album\n",
    "\n",
    "while True:\n",
    "    artist = input(album_info)\n",
    "    if artist == 'quit':\n",
    "        break\n",
    "    \n",
    "    title = input(album_info)\n",
    "    if title == 'quit':\n",
    "        break\n",
    "\n",
    "    album = make_album(artist, title)\n",
    "    print(album)"
   ]
  },
  {
   "cell_type": "markdown",
   "id": "97bab8c2",
   "metadata": {},
   "source": [
    "## Question 19\n",
    "\n",
    "**Messages:** Make a list containing a series of short text messages. Pass the list to a function called `show_messages()`, which prints each text message."
   ]
  },
  {
   "cell_type": "code",
   "execution_count": 20,
   "id": "f8f3ee4e",
   "metadata": {},
   "outputs": [
    {
     "name": "stdout",
     "output_type": "stream",
     "text": [
      "I'm Yinan\n",
      "I love python\n",
      "Also, I love RS\n"
     ]
    }
   ],
   "source": [
    "messages = [\n",
    "    \"I'm Yinan\",\n",
    "    \"I love python\",\n",
    "    \"Also, I love RS\"\n",
    "]\n",
    "\n",
    "def show_message():\n",
    "    for message in messages:\n",
    "        print(message)\n",
    "\n",
    "show_message()\n",
    "\n"
   ]
  },
  {
   "cell_type": "markdown",
   "id": "a8bcea3c",
   "metadata": {},
   "source": [
    "## Question 20\n",
    "\n",
    "**Sending Messages:** Start with a copy of your program from Question 19. Write a function called `send_messages()` that prints each text message and moves each message to a new list called `sent_messages` as it’s printed. After calling the function, print both of your lists to make sure the messages were moved correctly."
   ]
  },
  {
   "cell_type": "code",
   "execution_count": 21,
   "id": "c5340719",
   "metadata": {},
   "outputs": [
    {
     "name": "stdout",
     "output_type": "stream",
     "text": [
      "I'm Yinan\n",
      "I love python\n",
      "Also, I love RS\n",
      "[\"I'm Yinan\", 'I love python', 'Also, I love RS']\n"
     ]
    }
   ],
   "source": [
    "messages = [\n",
    "    \"I'm Yinan\",\n",
    "    \"I love python\",\n",
    "    \"Also, I love RS\"\n",
    "]\n",
    "\n",
    "sent_messages = []\n",
    "\n",
    "def sent_message():\n",
    "    for message in messages:\n",
    "        print(message)\n",
    "        sent_messages.append(message)\n",
    "\n",
    "sent_message()\n",
    "print(sent_messages)"
   ]
  },
  {
   "cell_type": "markdown",
   "id": "c98f1dd0",
   "metadata": {},
   "source": [
    "## Question 21\n",
    "\n",
    "**Learning Python:** Open a blank file in your text editor and write a few lines summarizing what you’ve learned about Python so far. Start each line with the phrase _In Python you can. . .._ Save the file as _learning_python.txt_ in the same directory as your exercises from this chapter. Write a program that reads the file and prints what you wrote three times. Print the contents once by reading in the entire file, once by looping over the file object, and once by storing the lines in a list and then working with them outside the _with_ block."
   ]
  },
  {
   "cell_type": "code",
   "execution_count": 22,
   "id": "cb5da040",
   "metadata": {},
   "outputs": [
    {
     "name": "stdout",
     "output_type": "stream",
     "text": [
      "In python you can write a loop function\n",
      "In python you can do statistical anaylsis\n",
      "In python you can do machine learning\n"
     ]
    },
    {
     "data": {
      "text/plain": [
       "['In python you can write a loop function\\nIn python you can do statistical anaylsis\\nIn python you can do machine learning']"
      ]
     },
     "execution_count": 22,
     "metadata": {},
     "output_type": "execute_result"
    }
   ],
   "source": [
    "filename = 'learning_python.txt'\n",
    "file = open(filename, 'w')\n",
    "file.write('In python you can write a loop function\\nIn python you can do statistical anaylsis\\nIn python you can do machine learning')\n",
    "file.close()\n",
    "\n",
    "\n",
    "messages = []\n",
    "with open('learning_python.txt') as txt:\n",
    "    contents = txt.read()\n",
    "    print(contents)\n",
    "    messages.append(contents)\n",
    "\n",
    "messages"
   ]
  },
  {
   "cell_type": "markdown",
   "id": "4a1a04ad",
   "metadata": {},
   "source": [
    "## Question 22\n",
    "\n",
    "**Learning C:** You can use the replace() method to replace any word in a string with a different word. Here’s a quick example showing how to replace 'dog' with 'cat' in a sentence:\n",
    "\n",
    "```text\n",
    "message = \"I really like dogs.\"\n",
    "message.replace('dog', 'cat')\n",
    "'I really like cats.'\n",
    "```\n",
    "\n",
    "Read in each line from the file you just created, _learning_python.txt_, and replace the word _Python_ with the name of another language, such as _C_. Print each modified line to the screen."
   ]
  },
  {
   "cell_type": "code",
   "execution_count": 23,
   "id": "b11b8018",
   "metadata": {},
   "outputs": [
    {
     "name": "stdout",
     "output_type": "stream",
     "text": [
      "In R you can write a loop function\n",
      "In R you can do statistical anaylsis\n",
      "In R you can do machine learning\n"
     ]
    }
   ],
   "source": [
    "with open('learning_python.txt') as txt:\n",
    "    lines = txt.readlines()\n",
    "\n",
    "for line in lines:\n",
    "    line = line.rstrip()\n",
    "    print(line.replace('python', 'R'))\n"
   ]
  },
  {
   "cell_type": "markdown",
   "id": "0921244a",
   "metadata": {},
   "source": [
    "## Question 23\n",
    "\n",
    "**Guest:** Write a program that prompts the user for their name. When they respond, write their name to a file called guest.txt."
   ]
  },
  {
   "cell_type": "code",
   "execution_count": 24,
   "id": "340d8f4b",
   "metadata": {},
   "outputs": [],
   "source": [
    "name = input('please tell us your name')\n",
    "\n",
    "filename = 'guest.txt'\n",
    "\n",
    "with open(filename, 'w') as txt:\n",
    "    txt.write(name)"
   ]
  },
  {
   "cell_type": "markdown",
   "id": "24b72b21",
   "metadata": {},
   "source": [
    "## Question 24\n",
    "\n",
    "**Guest Book:** Write a while loop that prompts users for their name. When they enter their name, print a greeting to the screen and add a line recording their visit in a file called guest_book.txt. Make sure each entry appears on a new line in the file."
   ]
  },
  {
   "cell_type": "code",
   "execution_count": 25,
   "id": "2326c653",
   "metadata": {},
   "outputs": [],
   "source": [
    "\n",
    "filename = 'guest_book.txt'\n",
    "\n",
    "with open(filename, 'w') as txt:\n",
    "    while True:\n",
    "        name = input('please tell us your name')\n",
    "        if name == 'quit':\n",
    "            break\n",
    "        else:\n",
    "            txt.write(name + '\\n')"
   ]
  },
  {
   "cell_type": "markdown",
   "id": "f3075d32",
   "metadata": {},
   "source": [
    "## Question 25\n",
    "\n",
    "**Programming Poll:** Write a while loop that asks people why they like programming. Each time someone enters a reason, add their reason to a file that stores all the responses."
   ]
  },
  {
   "cell_type": "code",
   "execution_count": 26,
   "id": "042dfb04",
   "metadata": {},
   "outputs": [],
   "source": [
    "filename = 'programming_reason.txt'\n",
    "\n",
    "with open(filename, 'w') as txt:\n",
    "    while True:\n",
    "        reason = input('Why you like programming?')\n",
    "        if reason == 'quit':\n",
    "            break\n",
    "        else:\n",
    "            txt.write(reason + '\\n')"
   ]
  },
  {
   "cell_type": "markdown",
   "id": "ed07a1ca",
   "metadata": {},
   "source": [
    "## Question 26\n",
    "\n",
    "**Addition:** One common problem when prompting for numerical input occurs when people provide text instead of numbers. When you try to convert the input to an int, you’ll get a ValueError. Write a program that prompts for two numbers. Add them together and print the result. Catch the ValueError if either input value is not a number, and print a friendly error message. Test your program by entering two numbers and then by entering some text instead of a number."
   ]
  },
  {
   "cell_type": "code",
   "execution_count": 27,
   "id": "eaf686f8",
   "metadata": {},
   "outputs": [
    {
     "name": "stdout",
     "output_type": "stream",
     "text": [
      "The sum of the two number is 30\n"
     ]
    }
   ],
   "source": [
    "try:\n",
    "    x = input('Enter a number: ')\n",
    "    y = input('And another one: ')\n",
    "    x = int(x)\n",
    "    y = int(y)\n",
    "\n",
    "except ValueError:\n",
    "    print(\"Sorry, you need to enter a number\")\n",
    "\n",
    "else:\n",
    "    sum = x + y\n",
    "    print(f'The sum of the two number is {int(sum)}')"
   ]
  },
  {
   "cell_type": "markdown",
   "id": "09db5341",
   "metadata": {},
   "source": [
    "## Question 27\n",
    "\n",
    "**Addition Calculator:** Wrap your code from Question 26 in a while loop so the user can continue entering numbers even if they make a mistake and enter text instead of a number."
   ]
  },
  {
   "cell_type": "code",
   "execution_count": 35,
   "id": "916c769d",
   "metadata": {},
   "outputs": [
    {
     "name": "stdout",
     "output_type": "stream",
     "text": [
      "The sum of the two number is 21\n"
     ]
    }
   ],
   "source": [
    "while True:\n",
    "    try:\n",
    "     x = input('Enter a number: ')\n",
    "     y = input('And another one: ')\n",
    "     x = int(x)\n",
    "     y = int(y)\n",
    "\n",
    "    except ValueError:\n",
    "     pass\n",
    "    \n",
    "    if x == 'quit':\n",
    "      break\n",
    "    \n",
    "    elif y == 'quit':\n",
    "      break\n",
    "\n",
    "    else:\n",
    "     sum = x + y\n",
    "     print(f'The sum of the two number is {int(sum)}')"
   ]
  },
  {
   "cell_type": "markdown",
   "id": "288099a9",
   "metadata": {},
   "source": [
    "## Question 28\n",
    "\n",
    "**Cats and Dogs:** Make two files, _cats.txt_ and _dogs.txt_. Store at least three names of cats in the first file and three names of dogs in the second file. Write a program that tries to read these files and print the contents of the file to the screen. Wrap your code in a `try-except` block to catch the `FileNotFound` error, and print a friendly message if a file is missing. Move one of the files to a different location on your system, and make sure the code in the `except` block executes properly."
   ]
  },
  {
   "cell_type": "code",
   "execution_count": 29,
   "id": "387672f6",
   "metadata": {},
   "outputs": [
    {
     "name": "stdout",
     "output_type": "stream",
     "text": [
      "Ragdoll\n",
      "Siamese\n",
      "Maine Coon\n",
      "Sorry, file(s) missing!\n"
     ]
    }
   ],
   "source": [
    "filename = 'cats.txt'\n",
    "file = open(filename, 'w')\n",
    "file.write('Ragdoll\\nSiamese\\nMaine Coon')\n",
    "file.close()\n",
    "\n",
    "\n",
    "filenames = ['cats.txt','dogs.txt']\n",
    "try:\n",
    "    for filename in filenames:\n",
    "        with open(filename) as txt:\n",
    "            names = txt.read()\n",
    "            print(names)\n",
    "\n",
    "except FileNotFoundError:\n",
    "    print('Sorry, file(s) missing!')\n",
    "    "
   ]
  },
  {
   "cell_type": "markdown",
   "id": "e9d28546",
   "metadata": {},
   "source": [
    "## Question 29\n",
    "\n",
    "**Silent Cats and Dogs:** Modify your except block in Question 28 to fail silently if either file is missing."
   ]
  },
  {
   "cell_type": "code",
   "execution_count": 30,
   "id": "2b972722",
   "metadata": {},
   "outputs": [
    {
     "name": "stdout",
     "output_type": "stream",
     "text": [
      "Ragdoll\n",
      "Siamese\n",
      "Maine Coon\n"
     ]
    }
   ],
   "source": [
    "filenames = ['cats.txt','dogs.txt']\n",
    "try:\n",
    "    for filename in filenames:\n",
    "        with open(filename) as txt:\n",
    "            names = txt.read()\n",
    "            print(names)\n",
    "\n",
    "except FileNotFoundError:\n",
    "    pass"
   ]
  },
  {
   "cell_type": "markdown",
   "id": "241ffab1",
   "metadata": {},
   "source": [
    "## Question 30\n",
    "\n",
    "**Common Words:** Visit Project Gutenberg (<https://gutenberg.org/>) and find a few texts you’d like to analyze. Download the text files for these works, or copy the raw text from your browser into a text file on your computer. You can use the `count()` method to find out how many times a word or phrase appears in a string. For example, the following code counts the number of times 'row' appears in a string:"
   ]
  },
  {
   "cell_type": "code",
   "execution_count": 31,
   "id": "2a017ac9",
   "metadata": {},
   "outputs": [
    {
     "data": {
      "text/plain": [
       "2"
      ]
     },
     "execution_count": 31,
     "metadata": {},
     "output_type": "execute_result"
    }
   ],
   "source": [
    "line = \"Row, row, row your boat\"\n",
    "line.count('row')"
   ]
  },
  {
   "cell_type": "code",
   "execution_count": 32,
   "id": "41707165",
   "metadata": {},
   "outputs": [
    {
     "data": {
      "text/plain": [
       "3"
      ]
     },
     "execution_count": 32,
     "metadata": {},
     "output_type": "execute_result"
    }
   ],
   "source": [
    "line.lower().count('row')"
   ]
  },
  {
   "cell_type": "markdown",
   "id": "5652cc4d",
   "metadata": {},
   "source": [
    "Notice that converting the string to lowercase using lower() catches all appearances of the word you’re looking for, regardless of how it’s formatted.\n",
    "\n",
    "Write a program that reads the files you found at Project Gutenberg and determines how many times the word `the` appears in each text. This will be an approximation because it will also count words such as `then` and `there`. Try counting `the`, with a space in the string, and see how much lower your count is."
   ]
  },
  {
   "cell_type": "code",
   "execution_count": 33,
   "id": "55ab2af3",
   "metadata": {},
   "outputs": [
    {
     "name": "stdout",
     "output_type": "stream",
     "text": [
      "'the' appears 12163 times\n",
      "'the' appears 1571 times\n",
      "'the' appears 8001 times\n"
     ]
    }
   ],
   "source": [
    "def count_words(filename, word):\n",
    "    try:\n",
    "        with open(filename,encoding='utf-8') as txt:\n",
    "            contents = txt.read()\n",
    "    except FileNotFoundError:\n",
    "        pass\n",
    "    else:\n",
    "        word_count = contents.lower().count(word)\n",
    "        print(f\"'{word}' appears {word_count} times\")\n",
    "\n",
    "filenames = ['Odyssey.txt','RomeJuliet.txt','SherlockHolmes.txt']\n",
    "for filename in filenames:\n",
    "    count_words(filename, 'the')"
   ]
  }
 ],
 "metadata": {
  "kernelspec": {
   "display_name": "Python 3",
   "language": "python",
   "name": "python3"
  },
  "language_info": {
   "codemirror_mode": {
    "name": "ipython",
    "version": 3
   },
   "file_extension": ".py",
   "mimetype": "text/x-python",
   "name": "python",
   "nbconvert_exporter": "python",
   "pygments_lexer": "ipython3",
   "version": "3.7.2"
  }
 },
 "nbformat": 4,
 "nbformat_minor": 5
}
